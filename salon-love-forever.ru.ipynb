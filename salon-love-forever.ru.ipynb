{
 "cells": [
  {
   "cell_type": "code",
   "execution_count": 1,
   "metadata": {
    "collapsed": false
   },
   "outputs": [
    {
     "name": "stdout",
     "output_type": "stream",
     "text": [
      "Populating the interactive namespace from numpy and matplotlib\n"
     ]
    }
   ],
   "source": [
    "%pylab inline"
   ]
  },
  {
   "cell_type": "code",
   "execution_count": 2,
   "metadata": {
    "collapsed": false
   },
   "outputs": [],
   "source": [
    "import pandas as pd\n",
    "import numpy as np\n",
    "import seaborn as sns\n",
    "from pandas import Series, DataFrame\n",
    "from numpy import nan as NA\n",
    "from datetime import datetime, date\n",
    "from pandas.tseries.offsets import MonthEnd\n",
    "from IPython.display import display, Image, Markdown\n",
    "\n",
    "from get_dynamics import change_positions, show_dynamics"
   ]
  },
  {
   "cell_type": "code",
   "execution_count": 105,
   "metadata": {
    "collapsed": false
   },
   "outputs": [],
   "source": [
    "now = datetime.now().date()\n",
    "offset = MonthEnd()"
   ]
  },
  {
   "cell_type": "markdown",
   "metadata": {},
   "source": [
    "<h3>Загрузка исходных данных</h3>"
   ]
  },
  {
   "cell_type": "code",
   "execution_count": 103,
   "metadata": {
    "collapsed": false
   },
   "outputs": [
    {
     "data": {
      "text/plain": [
       "'/Users/popov/Documents/Работа/Сайты/Salon-love-forever.ru/reports'"
      ]
     },
     "execution_count": 103,
     "metadata": {},
     "output_type": "execute_result"
    }
   ],
   "source": [
    "pwd"
   ]
  },
  {
   "cell_type": "code",
   "execution_count": 117,
   "metadata": {
    "collapsed": false
   },
   "outputs": [],
   "source": [
    "names = ['geo', 'url', 'note', 'cost', 'duration']\n",
    "data = pd.read_csv('../raw_data.csv', names=names, index_col=[0,1]).fillna('')"
   ]
  },
  {
   "cell_type": "code",
   "execution_count": 130,
   "metadata": {
    "collapsed": false
   },
   "outputs": [],
   "source": [
    "%store -r organic\n",
    "%store -r positions"
   ]
  },
  {
   "cell_type": "markdown",
   "metadata": {},
   "source": [
    "<h2>1. Анализ бюджета</h2>"
   ]
  },
  {
   "cell_type": "markdown",
   "metadata": {},
   "source": [
    "### Таблица расходов"
   ]
  },
  {
   "cell_type": "code",
   "execution_count": 118,
   "metadata": {
    "collapsed": false
   },
   "outputs": [
    {
     "data": {
      "text/html": [
       "<div>\n",
       "<style scoped>\n",
       "    .dataframe tbody tr th:only-of-type {\n",
       "        vertical-align: middle;\n",
       "    }\n",
       "\n",
       "    .dataframe tbody tr th {\n",
       "        vertical-align: top;\n",
       "    }\n",
       "\n",
       "    .dataframe thead th {\n",
       "        text-align: right;\n",
       "    }\n",
       "</style>\n",
       "<table border=\"1\" class=\"dataframe\">\n",
       "  <thead>\n",
       "    <tr style=\"text-align: right;\">\n",
       "      <th></th>\n",
       "      <th>geo</th>\n",
       "      <th>url</th>\n",
       "      <th>note</th>\n",
       "      <th>cost</th>\n",
       "      <th>duration</th>\n",
       "    </tr>\n",
       "  </thead>\n",
       "  <tbody>\n",
       "    <tr>\n",
       "      <th>0</th>\n",
       "      <td>both</td>\n",
       "      <td>https://sape.ru</td>\n",
       "      <td>биржа арендных ссылок</td>\n",
       "      <td>4000.0</td>\n",
       "      <td>1</td>\n",
       "    </tr>\n",
       "    <tr>\n",
       "      <th>1</th>\n",
       "      <td>both</td>\n",
       "      <td>https://etxt.biz</td>\n",
       "      <td>тексты</td>\n",
       "      <td>520.0</td>\n",
       "      <td>1</td>\n",
       "    </tr>\n",
       "    <tr>\n",
       "      <th>2</th>\n",
       "      <td>both</td>\n",
       "      <td>https://ru.depositphotos.com/</td>\n",
       "      <td>фотосток</td>\n",
       "      <td>1405.0</td>\n",
       "      <td>1</td>\n",
       "    </tr>\n",
       "    <tr>\n",
       "      <th>3</th>\n",
       "      <td>both</td>\n",
       "      <td>https://text.ru/</td>\n",
       "      <td>тексты</td>\n",
       "      <td>0.0</td>\n",
       "      <td>1</td>\n",
       "    </tr>\n",
       "    <tr>\n",
       "      <th>4</th>\n",
       "      <td>msk</td>\n",
       "      <td>https://collections.yandex.ru/user/love-foreve...</td>\n",
       "      <td>+500 карточек</td>\n",
       "      <td>3552.2</td>\n",
       "      <td>12</td>\n",
       "    </tr>\n",
       "    <tr>\n",
       "      <th>6</th>\n",
       "      <td>spb</td>\n",
       "      <td>http://www.svadbaspb.ru/dress/133/</td>\n",
       "      <td></td>\n",
       "      <td>1010.0</td>\n",
       "      <td>2</td>\n",
       "    </tr>\n",
       "    <tr>\n",
       "      <th>7</th>\n",
       "      <td>spb</td>\n",
       "      <td>http://www.svadbaspb.ru/</td>\n",
       "      <td></td>\n",
       "      <td>4040.0</td>\n",
       "      <td>2</td>\n",
       "    </tr>\n",
       "    <tr>\n",
       "      <th>8</th>\n",
       "      <td>msk</td>\n",
       "      <td>http://tableplanner.ru</td>\n",
       "      <td></td>\n",
       "      <td>2180.0</td>\n",
       "      <td>2</td>\n",
       "    </tr>\n",
       "    <tr>\n",
       "      <th>9</th>\n",
       "      <td>msk</td>\n",
       "      <td>http://svadba-vals.ru/sovety-i-idei/svadebnye-...</td>\n",
       "      <td></td>\n",
       "      <td>3120.0</td>\n",
       "      <td>12</td>\n",
       "    </tr>\n",
       "    <tr>\n",
       "      <th>10</th>\n",
       "      <td>spb</td>\n",
       "      <td>http://www.urasvadba.ru/svadebnye-statyi/77</td>\n",
       "      <td></td>\n",
       "      <td>1212.6</td>\n",
       "      <td>1</td>\n",
       "    </tr>\n",
       "    <tr>\n",
       "      <th>11</th>\n",
       "      <td>msk</td>\n",
       "      <td>http://www.urasvadba.ru/4062</td>\n",
       "      <td></td>\n",
       "      <td>2018.5</td>\n",
       "      <td>1</td>\n",
       "    </tr>\n",
       "    <tr>\n",
       "      <th>12</th>\n",
       "      <td>msk</td>\n",
       "      <td>http://www.discoverwedding.ru</td>\n",
       "      <td></td>\n",
       "      <td>6060.0</td>\n",
       "      <td>6</td>\n",
       "    </tr>\n",
       "    <tr>\n",
       "      <th>13</th>\n",
       "      <td>both</td>\n",
       "      <td>https://svadba.net.ru/catalog/20132</td>\n",
       "      <td></td>\n",
       "      <td>14400.0</td>\n",
       "      <td>6</td>\n",
       "    </tr>\n",
       "    <tr>\n",
       "      <th>14</th>\n",
       "      <td>msk</td>\n",
       "      <td>https://tamada.expert/svadebnye-obrazy/platya-...</td>\n",
       "      <td></td>\n",
       "      <td>8000.0</td>\n",
       "      <td>12</td>\n",
       "    </tr>\n",
       "  </tbody>\n",
       "</table>\n",
       "</div>"
      ],
      "text/plain": [
       "     geo                                                url  \\\n",
       "0   both                                    https://sape.ru   \n",
       "1   both                                   https://etxt.biz   \n",
       "2   both                      https://ru.depositphotos.com/   \n",
       "3   both                                   https://text.ru/   \n",
       "4    msk  https://collections.yandex.ru/user/love-foreve...   \n",
       "6    spb                 http://www.svadbaspb.ru/dress/133/   \n",
       "7    spb                           http://www.svadbaspb.ru/   \n",
       "8    msk                             http://tableplanner.ru   \n",
       "9    msk  http://svadba-vals.ru/sovety-i-idei/svadebnye-...   \n",
       "10   spb        http://www.urasvadba.ru/svadebnye-statyi/77   \n",
       "11   msk                       http://www.urasvadba.ru/4062   \n",
       "12   msk                      http://www.discoverwedding.ru   \n",
       "13  both                https://svadba.net.ru/catalog/20132   \n",
       "14   msk  https://tamada.expert/svadebnye-obrazy/platya-...   \n",
       "\n",
       "                     note     cost  duration  \n",
       "0   биржа арендных ссылок   4000.0         1  \n",
       "1                  тексты    520.0         1  \n",
       "2                фотосток   1405.0         1  \n",
       "3                  тексты      0.0         1  \n",
       "4           +500 карточек   3552.2        12  \n",
       "6                           1010.0         2  \n",
       "7                           4040.0         2  \n",
       "8                           2180.0         2  \n",
       "9                           3120.0        12  \n",
       "10                          1212.6         1  \n",
       "11                          2018.5         1  \n",
       "12                          6060.0         6  \n",
       "13                         14400.0         6  \n",
       "14                          8000.0        12  "
      ]
     },
     "execution_count": 118,
     "metadata": {},
     "output_type": "execute_result"
    }
   ],
   "source": [
    "curr_month = data.index[-1][0]\n",
    "data.loc[curr_month]"
   ]
  },
  {
   "cell_type": "markdown",
   "metadata": {},
   "source": [
    "**cost** — стоимость размещения: 0 — условно бесплатно.\n",
    "\n",
    "**duration** — время размещения в месяцах: 1 — помесячная оплата, 12 — бессрочное размещение.\n",
    "\n",
    "<a href=\"https://yadi.sk/d/Nh-WeRpo3Jfskg\">Скачать</a> файл с исходными данными.\n",
    "\n",
    "<a href=\"https://yadi.sk/d/1EXvjiS13JZEna\">Посмотреть</a> платёжную информацию."
   ]
  },
  {
   "cell_type": "markdown",
   "metadata": {},
   "source": [
    "### Расходы в разрезе регионов за текущий период"
   ]
  },
  {
   "cell_type": "code",
   "execution_count": 119,
   "metadata": {
    "collapsed": false
   },
   "outputs": [
    {
     "data": {
      "text/plain": [
       "cost   -38.3\n",
       "Name: All, dtype: float64"
      ]
     },
     "execution_count": 119,
     "metadata": {},
     "output_type": "execute_result"
    }
   ],
   "source": [
    "#data.groupby('reg')[['cost']].sum()\n",
    "budget = 51480.0\n",
    "consumption = pd.pivot_table(data.loc[curr_month], values='cost', index=['geo'], \n",
    "                         aggfunc=sum, margins=True).loc['All']\n",
    "budget - consumption"
   ]
  },
  {
   "cell_type": "code",
   "execution_count": 120,
   "metadata": {
    "collapsed": false
   },
   "outputs": [
    {
     "data": {
      "text/plain": [
       "<matplotlib.legend.Legend at 0x10ba93d30>"
      ]
     },
     "execution_count": 120,
     "metadata": {},
     "output_type": "execute_result"
    },
    {
     "data": {
      "image/png": "[encoded data removed]",
      "text/plain": [
       "<Figure size 432x288 with 1 Axes>"
      ]
     },
     "metadata": {},
     "output_type": "display_data"
    }
   ],
   "source": [
    "sns.set()\n",
    "colors = ['#5fd69b', '#d65f5f', '#5f9bd6']\n",
    "pd.pivot_table(data.loc[curr_month], values='cost', index=['geo'], \n",
    "                         aggfunc=sum).plot(kind='pie', subplots=True, colors=colors)\n",
    "plt.legend(['Оба','Мск', 'Спб'])"
   ]
  },
  {
   "cell_type": "markdown",
   "metadata": {},
   "source": [
    "## 2. Анализ трафика"
   ]
  },
  {
   "cell_type": "markdown",
   "metadata": {},
   "source": [
    "### 2.1. LOVE-FOREVER.RU"
   ]
  },
  {
   "cell_type": "markdown",
   "metadata": {},
   "source": [
    "Таблица с данными по величине поискового трафика c 2017 года и его изменениям к месяцу и году."
   ]
  },
  {
   "cell_type": "code",
   "execution_count": 122,
   "metadata": {
    "collapsed": false
   },
   "outputs": [
    {
     "data": {
      "text/html": [
       "<div>\n",
       "<style scoped>\n",
       "    .dataframe tbody tr th:only-of-type {\n",
       "        vertical-align: middle;\n",
       "    }\n",
       "\n",
       "    .dataframe tbody tr th {\n",
       "        vertical-align: top;\n",
       "    }\n",
       "\n",
       "    .dataframe thead th {\n",
       "        text-align: right;\n",
       "    }\n",
       "</style>\n",
       "<table border=\"1\" class=\"dataframe\">\n",
       "  <thead>\n",
       "    <tr style=\"text-align: right;\">\n",
       "      <th></th>\n",
       "      <th>traffic</th>\n",
       "      <th>branded</th>\n",
       "      <th>MoM</th>\n",
       "      <th>YoY</th>\n",
       "    </tr>\n",
       "  </thead>\n",
       "  <tbody>\n",
       "    <tr>\n",
       "      <th>2018-01-31</th>\n",
       "      <td>12365</td>\n",
       "      <td>7.34</td>\n",
       "      <td>41.3</td>\n",
       "      <td>-14.5</td>\n",
       "    </tr>\n",
       "    <tr>\n",
       "      <th>2018-02-28</th>\n",
       "      <td>13044</td>\n",
       "      <td>↑7.95 (+0.61)</td>\n",
       "      <td>5.5</td>\n",
       "      <td>7.0</td>\n",
       "    </tr>\n",
       "    <tr>\n",
       "      <th>2018-03-31</th>\n",
       "      <td>16575</td>\n",
       "      <td>↑8.74 (+0.79)</td>\n",
       "      <td>27.1</td>\n",
       "      <td>15.7</td>\n",
       "    </tr>\n",
       "    <tr>\n",
       "      <th>2018-04-30</th>\n",
       "      <td>16949</td>\n",
       "      <td>↑9.69 (+0.95)</td>\n",
       "      <td>2.3</td>\n",
       "      <td>22.6</td>\n",
       "    </tr>\n",
       "    <tr>\n",
       "      <th>2018-05-31</th>\n",
       "      <td>16893</td>\n",
       "      <td>↑11.07 (+1.38)</td>\n",
       "      <td>-0.3</td>\n",
       "      <td>12.3</td>\n",
       "    </tr>\n",
       "    <tr>\n",
       "      <th>2018-06-30</th>\n",
       "      <td>14712</td>\n",
       "      <td>↑11.76 (+0.69)</td>\n",
       "      <td>-12.9</td>\n",
       "      <td>-2.5</td>\n",
       "    </tr>\n",
       "    <tr>\n",
       "      <th>2018-07-31</th>\n",
       "      <td>11803</td>\n",
       "      <td>↓9.94 (-1.82)</td>\n",
       "      <td>-19.8</td>\n",
       "      <td>-10.4</td>\n",
       "    </tr>\n",
       "    <tr>\n",
       "      <th>2018-08-31</th>\n",
       "      <td>11483</td>\n",
       "      <td>↓9.21 (-0.73)</td>\n",
       "      <td>-2.7</td>\n",
       "      <td>3.0</td>\n",
       "    </tr>\n",
       "    <tr>\n",
       "      <th>2018-09-30</th>\n",
       "      <td>8681</td>\n",
       "      <td>↓7.86 (-1.35)</td>\n",
       "      <td>-24.4</td>\n",
       "      <td>-5.5</td>\n",
       "    </tr>\n",
       "    <tr>\n",
       "      <th>2018-10-31</th>\n",
       "      <td>8313</td>\n",
       "      <td>↓7.05 (-0.81)</td>\n",
       "      <td>-4.2</td>\n",
       "      <td>-14.8</td>\n",
       "    </tr>\n",
       "    <tr>\n",
       "      <th>2018-11-30</th>\n",
       "      <td>8679</td>\n",
       "      <td>↑8.39 (+1.34)</td>\n",
       "      <td>4.4</td>\n",
       "      <td>-13.8</td>\n",
       "    </tr>\n",
       "    <tr>\n",
       "      <th>2018-12-31</th>\n",
       "      <td>7382</td>\n",
       "      <td>↓6.31 (-2.08)</td>\n",
       "      <td>-14.9</td>\n",
       "      <td>-15.7</td>\n",
       "    </tr>\n",
       "    <tr>\n",
       "      <th>2019-01-31</th>\n",
       "      <td>11699</td>\n",
       "      <td>↑7.37 (+1.06)</td>\n",
       "      <td>58.5</td>\n",
       "      <td>-5.4</td>\n",
       "    </tr>\n",
       "    <tr>\n",
       "      <th>2019-02-28</th>\n",
       "      <td>14103</td>\n",
       "      <td>↓6.58 (-0.79)</td>\n",
       "      <td>20.5</td>\n",
       "      <td>8.1</td>\n",
       "    </tr>\n",
       "    <tr>\n",
       "      <th>2019-03-31</th>\n",
       "      <td>18642</td>\n",
       "      <td>↓6.02 (-0.56)</td>\n",
       "      <td>32.2</td>\n",
       "      <td>12.5</td>\n",
       "    </tr>\n",
       "  </tbody>\n",
       "</table>\n",
       "</div>"
      ],
      "text/plain": [
       "            traffic         branded   MoM   YoY\n",
       "2018-01-31    12365            7.34  41.3 -14.5\n",
       "2018-02-28    13044   ↑7.95 (+0.61)   5.5   7.0\n",
       "2018-03-31    16575   ↑8.74 (+0.79)  27.1  15.7\n",
       "2018-04-30    16949   ↑9.69 (+0.95)   2.3  22.6\n",
       "2018-05-31    16893  ↑11.07 (+1.38)  -0.3  12.3\n",
       "2018-06-30    14712  ↑11.76 (+0.69) -12.9  -2.5\n",
       "2018-07-31    11803   ↓9.94 (-1.82) -19.8 -10.4\n",
       "2018-08-31    11483   ↓9.21 (-0.73)  -2.7   3.0\n",
       "2018-09-30     8681   ↓7.86 (-1.35) -24.4  -5.5\n",
       "2018-10-31     8313   ↓7.05 (-0.81)  -4.2 -14.8\n",
       "2018-11-30     8679   ↑8.39 (+1.34)   4.4 -13.8\n",
       "2018-12-31     7382   ↓6.31 (-2.08) -14.9 -15.7\n",
       "2019-01-31    11699   ↑7.37 (+1.06)  58.5  -5.4\n",
       "2019-02-28    14103   ↓6.58 (-0.79)  20.5   8.1\n",
       "2019-03-31    18642   ↓6.02 (-0.56)  32.2  12.5"
      ]
     },
     "execution_count": 122,
     "metadata": {},
     "output_type": "execute_result"
    }
   ],
   "source": [
    "# organic = organic.applymap(lambda x: '{:.2f}'.format(x))\n",
    "show_dynamics(organic['msk']['2018':'2019'], 'branded')"
   ]
  },
  {
   "cell_type": "markdown",
   "metadata": {},
   "source": [
    "**Комментарий:** Органический трафик вырос на 32%↑ относительно февральских значений. \n",
    "Доля брендового трафика немного снизилась и остается ниже средних значений."
   ]
  },
  {
   "cell_type": "markdown",
   "metadata": {},
   "source": [
    "<p><b>branded</b> — количество брендового трафика, %\n",
    "<br/><b>YoY</b> — изменения год к году, %\n",
    "<br/><b>MoM</b> — изменения месяц к месяцу, %</p>\n",
    "\n",
    "**Источник:** https://metrika.yandex.ru"
   ]
  },
  {
   "cell_type": "markdown",
   "metadata": {},
   "source": [
    "### Линейная диаграмма изменения трафика"
   ]
  },
  {
   "cell_type": "code",
   "execution_count": 123,
   "metadata": {
    "collapsed": false
   },
   "outputs": [
    {
     "data": {
      "image/png": "[encoded data removed]",
      "text/plain": [
       "<Figure size 792x504 with 2 Axes>"
      ]
     },
     "metadata": {},
     "output_type": "display_data"
    }
   ],
   "source": [
    "red, blue = '#d65f5f', '#5f9bd6'\n",
    "\n",
    "fig = plt.figure(figsize=(11,7))\n",
    "ax = fig.add_subplot(1,1,1)\n",
    "#plt.style.use('seaborn-whitegrid')\n",
    "with sns.axes_style('white'):\n",
    "    #organic['msk']['2017':'2018'].traffic.plot(ax=ax, color=blue)\n",
    "    organic['msk']['2017':'2019'].traffic.rolling(3, center=True, win_type='gaussian').sum(std=10).plot(ax=ax, label='rolling mean')\n",
    "    ax.set_title('The organic traffic for 2017-2019')\n",
    "    ax.set_ylabel('Overall', color=blue)\n",
    "# ax.legend(loc='upper right');\n",
    "    ax2 = ax.twinx()\n",
    "    organic['msk']['2017':'2019'].branded.plot(color=red, linewidth=1.2, alpha=.5, style=':', label='branded')\n",
    "# ax2.plot(y1, 'r-')\n",
    "    ax2.set_ylabel('Branded, %', color=red)\n",
    "    for tl in ax2.get_yticklabels():\n",
    "        tl.set_color(red)\n",
    "    ax.legend(frameon=False, loc='upper center')\n",
    "    ax2.legend(frameon=False, loc='center')\n",
    "\n",
    "# average moving with window = 4 and std = 10\n",
    "# organic['msk'].traffic.rolling(4, center=True, win_type='gaussian').sum(std=10).plot()"
   ]
  },
  {
   "cell_type": "markdown",
   "metadata": {},
   "source": [
    "### Подсветка данных"
   ]
  },
  {
   "cell_type": "code",
   "execution_count": 12,
   "metadata": {
    "collapsed": false
   },
   "outputs": [],
   "source": [
    "# display(Image('img/data_neg_select.png'))"
   ]
  },
  {
   "cell_type": "markdown",
   "metadata": {},
   "source": [
    "Отрицательные изменения (падение трафика) выделены красным."
   ]
  },
  {
   "cell_type": "code",
   "execution_count": 13,
   "metadata": {
    "collapsed": false
   },
   "outputs": [],
   "source": [
    "# display(Image('img/data_grad.png'))"
   ]
  },
  {
   "cell_type": "markdown",
   "metadata": {},
   "source": [
    "Ячейки таблицы градиентно залиты цветом в зависимости от величины содержимого."
   ]
  },
  {
   "cell_type": "markdown",
   "metadata": {},
   "source": [
    "### Диаграмма изменеия значений MoM "
   ]
  },
  {
   "cell_type": "code",
   "execution_count": 124,
   "metadata": {
    "collapsed": true
   },
   "outputs": [],
   "source": [
    "negative_MoM = organic['msk']['2016':'2019']['MoM'] < 0"
   ]
  },
  {
   "cell_type": "code",
   "execution_count": 125,
   "metadata": {
    "collapsed": false
   },
   "outputs": [
    {
     "data": {
      "image/png": "[encoded data removed]",
      "text/plain": [
       "<Figure size 792x504 with 1 Axes>"
      ]
     },
     "metadata": {},
     "output_type": "display_data"
    }
   ],
   "source": [
    "fig = plt.figure(figsize=(11,7))\n",
    "ax = fig.add_subplot(1,1,1)\n",
    "with sns.axes_style('white'):\n",
    "    organic['msk']['2016':'2019'].MoM.plot(ax=ax, kind='bar', stacked=True, \n",
    "                 color=negative_MoM.map({True: '#d65f5f', False: '#5fd69b'}));\n",
    "    ax.set_ylabel('changes, %');\n",
    "    ticks = ax.set_xticklabels(['{:%b %Y}'.format(x) for x in organic['msk']['2016':'2019'].index]);"
   ]
  },
  {
   "cell_type": "markdown",
   "metadata": {},
   "source": [
    "На диаграмме чётко видна сезонная волатильность поискового трафика."
   ]
  },
  {
   "cell_type": "markdown",
   "metadata": {},
   "source": [
    "### 2.2. SPB.LOVE-FOREVER.RU"
   ]
  },
  {
   "cell_type": "markdown",
   "metadata": {},
   "source": [
    "Таблица с данными по органическому трафику с марта 2017"
   ]
  },
  {
   "cell_type": "code",
   "execution_count": 126,
   "metadata": {
    "collapsed": false
   },
   "outputs": [
    {
     "data": {
      "text/html": [
       "<div>\n",
       "<style scoped>\n",
       "    .dataframe tbody tr th:only-of-type {\n",
       "        vertical-align: middle;\n",
       "    }\n",
       "\n",
       "    .dataframe tbody tr th {\n",
       "        vertical-align: top;\n",
       "    }\n",
       "\n",
       "    .dataframe thead th {\n",
       "        text-align: right;\n",
       "    }\n",
       "</style>\n",
       "<table border=\"1\" class=\"dataframe\">\n",
       "  <thead>\n",
       "    <tr style=\"text-align: right;\">\n",
       "      <th></th>\n",
       "      <th>traffic</th>\n",
       "      <th>branded</th>\n",
       "      <th>MoM</th>\n",
       "      <th>YoY</th>\n",
       "    </tr>\n",
       "  </thead>\n",
       "  <tbody>\n",
       "    <tr>\n",
       "      <th>2017-03-31</th>\n",
       "      <td>13</td>\n",
       "      <td>15.38</td>\n",
       "      <td>NaN</td>\n",
       "      <td>NaN</td>\n",
       "    </tr>\n",
       "    <tr>\n",
       "      <th>2017-04-30</th>\n",
       "      <td>508</td>\n",
       "      <td>↑17.72 (+2.34)</td>\n",
       "      <td>3807.7</td>\n",
       "      <td>NaN</td>\n",
       "    </tr>\n",
       "    <tr>\n",
       "      <th>2017-05-31</th>\n",
       "      <td>998</td>\n",
       "      <td>↑18.14 (+0.42)</td>\n",
       "      <td>96.5</td>\n",
       "      <td>NaN</td>\n",
       "    </tr>\n",
       "    <tr>\n",
       "      <th>2017-06-30</th>\n",
       "      <td>1296</td>\n",
       "      <td>↓14.27 (-3.87)</td>\n",
       "      <td>29.9</td>\n",
       "      <td>NaN</td>\n",
       "    </tr>\n",
       "    <tr>\n",
       "      <th>2017-07-31</th>\n",
       "      <td>1259</td>\n",
       "      <td>↓12.07 (-2.2)</td>\n",
       "      <td>-2.9</td>\n",
       "      <td>NaN</td>\n",
       "    </tr>\n",
       "    <tr>\n",
       "      <th>2017-08-31</th>\n",
       "      <td>1065</td>\n",
       "      <td>↑16.81 (+4.74)</td>\n",
       "      <td>-15.4</td>\n",
       "      <td>NaN</td>\n",
       "    </tr>\n",
       "    <tr>\n",
       "      <th>2017-09-30</th>\n",
       "      <td>1242</td>\n",
       "      <td>↓7.97 (-8.84)</td>\n",
       "      <td>16.6</td>\n",
       "      <td>NaN</td>\n",
       "    </tr>\n",
       "    <tr>\n",
       "      <th>2017-10-31</th>\n",
       "      <td>1251</td>\n",
       "      <td>↑11.51 (+3.54)</td>\n",
       "      <td>0.7</td>\n",
       "      <td>NaN</td>\n",
       "    </tr>\n",
       "    <tr>\n",
       "      <th>2017-11-30</th>\n",
       "      <td>1386</td>\n",
       "      <td>↓11.47 (-0.04)</td>\n",
       "      <td>10.8</td>\n",
       "      <td>NaN</td>\n",
       "    </tr>\n",
       "    <tr>\n",
       "      <th>2017-12-31</th>\n",
       "      <td>1731</td>\n",
       "      <td>↓10.63 (-0.84)</td>\n",
       "      <td>24.9</td>\n",
       "      <td>NaN</td>\n",
       "    </tr>\n",
       "    <tr>\n",
       "      <th>2018-01-31</th>\n",
       "      <td>2384</td>\n",
       "      <td>↓8.14 (-2.49)</td>\n",
       "      <td>37.7</td>\n",
       "      <td>NaN</td>\n",
       "    </tr>\n",
       "    <tr>\n",
       "      <th>2018-02-28</th>\n",
       "      <td>2820</td>\n",
       "      <td>↑9.61 (+1.47)</td>\n",
       "      <td>18.3</td>\n",
       "      <td>NaN</td>\n",
       "    </tr>\n",
       "    <tr>\n",
       "      <th>2018-03-31</th>\n",
       "      <td>4102</td>\n",
       "      <td>↓8.02 (-1.59)</td>\n",
       "      <td>45.5</td>\n",
       "      <td>31453.8</td>\n",
       "    </tr>\n",
       "    <tr>\n",
       "      <th>2018-04-30</th>\n",
       "      <td>4638</td>\n",
       "      <td>↑9.31 (+1.29)</td>\n",
       "      <td>13.1</td>\n",
       "      <td>813.0</td>\n",
       "    </tr>\n",
       "    <tr>\n",
       "      <th>2018-05-31</th>\n",
       "      <td>4808</td>\n",
       "      <td>↓9.17 (-0.14)</td>\n",
       "      <td>3.7</td>\n",
       "      <td>381.8</td>\n",
       "    </tr>\n",
       "    <tr>\n",
       "      <th>2018-06-30</th>\n",
       "      <td>4573</td>\n",
       "      <td>↓8.27 (-0.9)</td>\n",
       "      <td>-4.9</td>\n",
       "      <td>252.9</td>\n",
       "    </tr>\n",
       "    <tr>\n",
       "      <th>2018-07-31</th>\n",
       "      <td>2893</td>\n",
       "      <td>↑8.81 (+0.54)</td>\n",
       "      <td>-36.7</td>\n",
       "      <td>129.8</td>\n",
       "    </tr>\n",
       "    <tr>\n",
       "      <th>2018-08-31</th>\n",
       "      <td>2453</td>\n",
       "      <td>↓8.11 (-0.7)</td>\n",
       "      <td>-15.2</td>\n",
       "      <td>130.3</td>\n",
       "    </tr>\n",
       "    <tr>\n",
       "      <th>2018-09-30</th>\n",
       "      <td>2137</td>\n",
       "      <td>↓7.53 (-0.58)</td>\n",
       "      <td>-12.9</td>\n",
       "      <td>72.1</td>\n",
       "    </tr>\n",
       "    <tr>\n",
       "      <th>2018-10-31</th>\n",
       "      <td>2251</td>\n",
       "      <td>↓7.20 (-0.33)</td>\n",
       "      <td>5.3</td>\n",
       "      <td>79.9</td>\n",
       "    </tr>\n",
       "    <tr>\n",
       "      <th>2018-11-30</th>\n",
       "      <td>2644</td>\n",
       "      <td>↓6.20 (-1.0)</td>\n",
       "      <td>17.5</td>\n",
       "      <td>90.8</td>\n",
       "    </tr>\n",
       "    <tr>\n",
       "      <th>2018-12-31</th>\n",
       "      <td>2192</td>\n",
       "      <td>↓4.74 (-1.46)</td>\n",
       "      <td>-17.1</td>\n",
       "      <td>26.6</td>\n",
       "    </tr>\n",
       "    <tr>\n",
       "      <th>2019-01-31</th>\n",
       "      <td>3417</td>\n",
       "      <td>↓3.86 (-0.88)</td>\n",
       "      <td>55.9</td>\n",
       "      <td>43.3</td>\n",
       "    </tr>\n",
       "    <tr>\n",
       "      <th>2019-02-28</th>\n",
       "      <td>3666</td>\n",
       "      <td>↑4.23 (+0.37)</td>\n",
       "      <td>7.3</td>\n",
       "      <td>30.0</td>\n",
       "    </tr>\n",
       "    <tr>\n",
       "      <th>2019-03-31</th>\n",
       "      <td>4658</td>\n",
       "      <td>↓3.26 (-0.97)</td>\n",
       "      <td>27.1</td>\n",
       "      <td>13.6</td>\n",
       "    </tr>\n",
       "  </tbody>\n",
       "</table>\n",
       "</div>"
      ],
      "text/plain": [
       "            traffic         branded     MoM      YoY\n",
       "2017-03-31       13           15.38     NaN      NaN\n",
       "2017-04-30      508  ↑17.72 (+2.34)  3807.7      NaN\n",
       "2017-05-31      998  ↑18.14 (+0.42)    96.5      NaN\n",
       "2017-06-30     1296  ↓14.27 (-3.87)    29.9      NaN\n",
       "2017-07-31     1259   ↓12.07 (-2.2)    -2.9      NaN\n",
       "2017-08-31     1065  ↑16.81 (+4.74)   -15.4      NaN\n",
       "2017-09-30     1242   ↓7.97 (-8.84)    16.6      NaN\n",
       "2017-10-31     1251  ↑11.51 (+3.54)     0.7      NaN\n",
       "2017-11-30     1386  ↓11.47 (-0.04)    10.8      NaN\n",
       "2017-12-31     1731  ↓10.63 (-0.84)    24.9      NaN\n",
       "2018-01-31     2384   ↓8.14 (-2.49)    37.7      NaN\n",
       "2018-02-28     2820   ↑9.61 (+1.47)    18.3      NaN\n",
       "2018-03-31     4102   ↓8.02 (-1.59)    45.5  31453.8\n",
       "2018-04-30     4638   ↑9.31 (+1.29)    13.1    813.0\n",
       "2018-05-31     4808   ↓9.17 (-0.14)     3.7    381.8\n",
       "2018-06-30     4573    ↓8.27 (-0.9)    -4.9    252.9\n",
       "2018-07-31     2893   ↑8.81 (+0.54)   -36.7    129.8\n",
       "2018-08-31     2453    ↓8.11 (-0.7)   -15.2    130.3\n",
       "2018-09-30     2137   ↓7.53 (-0.58)   -12.9     72.1\n",
       "2018-10-31     2251   ↓7.20 (-0.33)     5.3     79.9\n",
       "2018-11-30     2644    ↓6.20 (-1.0)    17.5     90.8\n",
       "2018-12-31     2192   ↓4.74 (-1.46)   -17.1     26.6\n",
       "2019-01-31     3417   ↓3.86 (-0.88)    55.9     43.3\n",
       "2019-02-28     3666   ↑4.23 (+0.37)     7.3     30.0\n",
       "2019-03-31     4658   ↓3.26 (-0.97)    27.1     13.6"
      ]
     },
     "execution_count": 126,
     "metadata": {},
     "output_type": "execute_result"
    }
   ],
   "source": [
    "show_dynamics(organic['spb'], 'branded')"
   ]
  },
  {
   "cell_type": "markdown",
   "metadata": {},
   "source": [
    "**Комментарий:** Трафик из поисковиков подрос приблизительно на треть. Доля брендового трафика показывает свой минимум."
   ]
  },
  {
   "cell_type": "code",
   "execution_count": 127,
   "metadata": {
    "collapsed": false
   },
   "outputs": [
    {
     "data": {
      "text/plain": [
       "'9.7%'"
      ]
     },
     "execution_count": 127,
     "metadata": {},
     "output_type": "execute_result"
    }
   ],
   "source": [
    "# Средний показатель брендового трафика, %\n",
    "\"{}%\".format(round(organic['spb']['branded'].mean(), 2))"
   ]
  },
  {
   "cell_type": "markdown",
   "metadata": {},
   "source": [
    "## 3. Анализ позиций"
   ]
  },
  {
   "cell_type": "markdown",
   "metadata": {},
   "source": [
    "### 3.1. LOVE-FOREVER.RU"
   ]
  },
  {
   "cell_type": "markdown",
   "metadata": {},
   "source": [
    "#### Позиции с интервалом в 7-10 дней\n",
    "Выборка за декабрь"
   ]
  },
  {
   "cell_type": "code",
   "execution_count": 128,
   "metadata": {
    "collapsed": false
   },
   "outputs": [],
   "source": [
    "All = slice(None)\n",
    "cols_m = positions['msk'].columns.tolist()\n",
    "indx_m = cols_m.index('salon-love-forever.ru')\n",
    "cols_m.append(cols_m.pop(indx_m))"
   ]
  },
  {
   "cell_type": "code",
   "execution_count": 133,
   "metadata": {
    "collapsed": false
   },
   "outputs": [
    {
     "data": {
      "text/html": [
       "<div>\n",
       "<style scoped>\n",
       "    .dataframe tbody tr th:only-of-type {\n",
       "        vertical-align: middle;\n",
       "    }\n",
       "\n",
       "    .dataframe tbody tr th {\n",
       "        vertical-align: top;\n",
       "    }\n",
       "\n",
       "    .dataframe thead th {\n",
       "        text-align: right;\n",
       "    }\n",
       "</style>\n",
       "<table border=\"1\" class=\"dataframe\">\n",
       "  <thead>\n",
       "    <tr style=\"text-align: right;\">\n",
       "      <th></th>\n",
       "      <th></th>\n",
       "      <th>bel-avantage.ru</th>\n",
       "      <th>domvesta.ru</th>\n",
       "      <th>marytrufel.ru</th>\n",
       "      <th>salon-love-forever.ru</th>\n",
       "    </tr>\n",
       "  </thead>\n",
       "  <tbody>\n",
       "    <tr>\n",
       "      <th rowspan=\"3\" valign=\"top\">2019-01-05</th>\n",
       "      <th>вечерние платья</th>\n",
       "      <td>51</td>\n",
       "      <td>23</td>\n",
       "      <td>51</td>\n",
       "      <td>12</td>\n",
       "    </tr>\n",
       "    <tr>\n",
       "      <th>свадебные платья</th>\n",
       "      <td>1</td>\n",
       "      <td>45</td>\n",
       "      <td>6</td>\n",
       "      <td>7</td>\n",
       "    </tr>\n",
       "    <tr>\n",
       "      <th>свадебный салон</th>\n",
       "      <td>51</td>\n",
       "      <td>12</td>\n",
       "      <td>2</td>\n",
       "      <td>14</td>\n",
       "    </tr>\n",
       "    <tr>\n",
       "      <th rowspan=\"3\" valign=\"top\">2019-01-11</th>\n",
       "      <th>вечерние платья</th>\n",
       "      <td>51</td>\n",
       "      <td>43</td>\n",
       "      <td>51</td>\n",
       "      <td>14</td>\n",
       "    </tr>\n",
       "    <tr>\n",
       "      <th>свадебные платья</th>\n",
       "      <td>1</td>\n",
       "      <td>45</td>\n",
       "      <td>8</td>\n",
       "      <td>12</td>\n",
       "    </tr>\n",
       "    <tr>\n",
       "      <th>свадебный салон</th>\n",
       "      <td>51</td>\n",
       "      <td>8</td>\n",
       "      <td>2</td>\n",
       "      <td>12</td>\n",
       "    </tr>\n",
       "    <tr>\n",
       "      <th rowspan=\"3\" valign=\"top\">2019-01-18</th>\n",
       "      <th>вечерние платья</th>\n",
       "      <td>51</td>\n",
       "      <td>41</td>\n",
       "      <td>51</td>\n",
       "      <td>8</td>\n",
       "    </tr>\n",
       "    <tr>\n",
       "      <th>свадебные платья</th>\n",
       "      <td>2</td>\n",
       "      <td>44</td>\n",
       "      <td>6</td>\n",
       "      <td>8</td>\n",
       "    </tr>\n",
       "    <tr>\n",
       "      <th>свадебный салон</th>\n",
       "      <td>51</td>\n",
       "      <td>12</td>\n",
       "      <td>2</td>\n",
       "      <td>13</td>\n",
       "    </tr>\n",
       "    <tr>\n",
       "      <th rowspan=\"3\" valign=\"top\">2019-01-25</th>\n",
       "      <th>вечерние платья</th>\n",
       "      <td>51</td>\n",
       "      <td>40</td>\n",
       "      <td>51</td>\n",
       "      <td>14</td>\n",
       "    </tr>\n",
       "    <tr>\n",
       "      <th>свадебные платья</th>\n",
       "      <td>1</td>\n",
       "      <td>44</td>\n",
       "      <td>6</td>\n",
       "      <td>9</td>\n",
       "    </tr>\n",
       "    <tr>\n",
       "      <th>свадебный салон</th>\n",
       "      <td>51</td>\n",
       "      <td>11</td>\n",
       "      <td>2</td>\n",
       "      <td>9</td>\n",
       "    </tr>\n",
       "    <tr>\n",
       "      <th rowspan=\"3\" valign=\"top\">2019-03-28</th>\n",
       "      <th>вечерние платья</th>\n",
       "      <td>51</td>\n",
       "      <td>21</td>\n",
       "      <td>37</td>\n",
       "      <td>18</td>\n",
       "    </tr>\n",
       "    <tr>\n",
       "      <th>свадебные платья</th>\n",
       "      <td>2</td>\n",
       "      <td>4</td>\n",
       "      <td>8</td>\n",
       "      <td>7</td>\n",
       "    </tr>\n",
       "    <tr>\n",
       "      <th>свадебный салон</th>\n",
       "      <td>37</td>\n",
       "      <td>12</td>\n",
       "      <td>1</td>\n",
       "      <td>19</td>\n",
       "    </tr>\n",
       "    <tr>\n",
       "      <th rowspan=\"3\" valign=\"top\">2019-04-05</th>\n",
       "      <th>вечерние платья</th>\n",
       "      <td>51</td>\n",
       "      <td>16</td>\n",
       "      <td>51</td>\n",
       "      <td>10</td>\n",
       "    </tr>\n",
       "    <tr>\n",
       "      <th>свадебные платья</th>\n",
       "      <td>1</td>\n",
       "      <td>44</td>\n",
       "      <td>12</td>\n",
       "      <td>7</td>\n",
       "    </tr>\n",
       "    <tr>\n",
       "      <th>свадебный салон</th>\n",
       "      <td>47</td>\n",
       "      <td>9</td>\n",
       "      <td>1</td>\n",
       "      <td>17</td>\n",
       "    </tr>\n",
       "    <tr>\n",
       "      <th rowspan=\"3\" valign=\"top\">2019-04-13</th>\n",
       "      <th>вечерние платья</th>\n",
       "      <td>51</td>\n",
       "      <td>35</td>\n",
       "      <td>51</td>\n",
       "      <td>14</td>\n",
       "    </tr>\n",
       "    <tr>\n",
       "      <th>свадебные платья</th>\n",
       "      <td>1</td>\n",
       "      <td>46</td>\n",
       "      <td>6</td>\n",
       "      <td>8</td>\n",
       "    </tr>\n",
       "    <tr>\n",
       "      <th>свадебный салон</th>\n",
       "      <td>45</td>\n",
       "      <td>8</td>\n",
       "      <td>5</td>\n",
       "      <td>23</td>\n",
       "    </tr>\n",
       "    <tr>\n",
       "      <th rowspan=\"3\" valign=\"top\">2019-04-21</th>\n",
       "      <th>вечерние платья</th>\n",
       "      <td>51</td>\n",
       "      <td>↑18 (+17)</td>\n",
       "      <td>↑38 (+13)</td>\n",
       "      <td>↓16 (-2)</td>\n",
       "    </tr>\n",
       "    <tr>\n",
       "      <th>свадебные платья</th>\n",
       "      <td>↓30 (-29)</td>\n",
       "      <td>↑6 (+40)</td>\n",
       "      <td>↓15 (-9)</td>\n",
       "      <td>↑5 (+3)</td>\n",
       "    </tr>\n",
       "    <tr>\n",
       "      <th>свадебный салон</th>\n",
       "      <td>↑32 (+13)</td>\n",
       "      <td>↑3 (+5)</td>\n",
       "      <td>5</td>\n",
       "      <td>↑15 (+8)</td>\n",
       "    </tr>\n",
       "  </tbody>\n",
       "</table>\n",
       "</div>"
      ],
      "text/plain": [
       "                            bel-avantage.ru domvesta.ru marytrufel.ru  \\\n",
       "2019-01-05 вечерние платья               51          23            51   \n",
       "           свадебные платья               1          45             6   \n",
       "           свадебный салон               51          12             2   \n",
       "2019-01-11 вечерние платья               51          43            51   \n",
       "           свадебные платья               1          45             8   \n",
       "           свадебный салон               51           8             2   \n",
       "2019-01-18 вечерние платья               51          41            51   \n",
       "           свадебные платья               2          44             6   \n",
       "           свадебный салон               51          12             2   \n",
       "2019-01-25 вечерние платья               51          40            51   \n",
       "           свадебные платья               1          44             6   \n",
       "           свадебный салон               51          11             2   \n",
       "2019-03-28 вечерние платья               51          21            37   \n",
       "           свадебные платья               2           4             8   \n",
       "           свадебный салон               37          12             1   \n",
       "2019-04-05 вечерние платья               51          16            51   \n",
       "           свадебные платья               1          44            12   \n",
       "           свадебный салон               47           9             1   \n",
       "2019-04-13 вечерние платья               51          35            51   \n",
       "           свадебные платья               1          46             6   \n",
       "           свадебный салон               45           8             5   \n",
       "2019-04-21 вечерние платья               51   ↑18 (+17)     ↑38 (+13)   \n",
       "           свадебные платья       ↓30 (-29)    ↑6 (+40)      ↓15 (-9)   \n",
       "           свадебный салон        ↑32 (+13)     ↑3 (+5)             5   \n",
       "\n",
       "                            salon-love-forever.ru  \n",
       "2019-01-05 вечерние платья                     12  \n",
       "           свадебные платья                     7  \n",
       "           свадебный салон                     14  \n",
       "2019-01-11 вечерние платья                     14  \n",
       "           свадебные платья                    12  \n",
       "           свадебный салон                     12  \n",
       "2019-01-18 вечерние платья                      8  \n",
       "           свадебные платья                     8  \n",
       "           свадебный салон                     13  \n",
       "2019-01-25 вечерние платья                     14  \n",
       "           свадебные платья                     9  \n",
       "           свадебный салон                      9  \n",
       "2019-03-28 вечерние платья                     18  \n",
       "           свадебные платья                     7  \n",
       "           свадебный салон                     19  \n",
       "2019-04-05 вечерние платья                     10  \n",
       "           свадебные платья                     7  \n",
       "           свадебный салон                     17  \n",
       "2019-04-13 вечерние платья                     14  \n",
       "           свадебные платья                     8  \n",
       "           свадебный салон                     23  \n",
       "2019-04-21 вечерние платья               ↓16 (-2)  \n",
       "           свадебные платья               ↑5 (+3)  \n",
       "           свадебный салон               ↑15 (+8)  "
      ]
     },
     "execution_count": 133,
     "metadata": {},
     "output_type": "execute_result"
    }
   ],
   "source": [
    "positions['msk'] = positions['msk'].fillna(51).applymap(lambda x: int(x))\n",
    "slc = (slice('2019-01','2019-04'), All), All\n",
    "change_positions(positions['msk'][cols_m].loc[slc]) # .loc[['201707', '201711'], :]"
   ]
  },
  {
   "cell_type": "markdown",
   "metadata": {},
   "source": [
    "**Комментарий:** нестабильная ситуация по позициям — что в основной выдаче, что в XML — все еще заметна. "
   ]
  },
  {
   "cell_type": "markdown",
   "metadata": {},
   "source": [
    "#### Среднее значение позиций по месяцам и его изменение"
   ]
  },
  {
   "cell_type": "code",
   "execution_count": 135,
   "metadata": {
    "collapsed": false
   },
   "outputs": [],
   "source": [
    "#change_positions(positions['msk'][cols_m].unstack()['2018':'2019'].resample('M', \n",
    "#                            kind='period').mean().applymap(lambda x: round(x)).stack())"
   ]
  },
  {
   "cell_type": "markdown",
   "metadata": {},
   "source": [
    "### 3.2. SPB.LOVE-FOREVER.RU"
   ]
  },
  {
   "cell_type": "code",
   "execution_count": 136,
   "metadata": {
    "collapsed": false
   },
   "outputs": [],
   "source": [
    "# Перемещение столбца spb.salon-love-forever.ru в крайнюю правую часть таблицы\n",
    "cols = positions['spb'].columns.tolist()\n",
    "indx = cols.index('spb.salon-love-forever.ru')\n",
    "cols.append(cols.pop(indx))"
   ]
  },
  {
   "cell_type": "code",
   "execution_count": 137,
   "metadata": {
    "collapsed": false
   },
   "outputs": [
    {
     "data": {
      "text/html": [
       "<div>\n",
       "<style scoped>\n",
       "    .dataframe tbody tr th:only-of-type {\n",
       "        vertical-align: middle;\n",
       "    }\n",
       "\n",
       "    .dataframe tbody tr th {\n",
       "        vertical-align: top;\n",
       "    }\n",
       "\n",
       "    .dataframe thead th {\n",
       "        text-align: right;\n",
       "    }\n",
       "</style>\n",
       "<table border=\"1\" class=\"dataframe\">\n",
       "  <thead>\n",
       "    <tr style=\"text-align: right;\">\n",
       "      <th></th>\n",
       "      <th></th>\n",
       "      <th>jullybride.ru</th>\n",
       "      <th>milanovera.ru</th>\n",
       "      <th>spb.marytrufel.ru</th>\n",
       "      <th>vbelom.ru</th>\n",
       "      <th>vesnawedding.ru</th>\n",
       "      <th>spb.salon-love-forever.ru</th>\n",
       "    </tr>\n",
       "  </thead>\n",
       "  <tbody>\n",
       "    <tr>\n",
       "      <th rowspan=\"3\" valign=\"top\">2019-01-05</th>\n",
       "      <th>вечерние платья</th>\n",
       "      <td>4</td>\n",
       "      <td>1</td>\n",
       "      <td>51</td>\n",
       "      <td>7</td>\n",
       "      <td>51</td>\n",
       "      <td>17</td>\n",
       "    </tr>\n",
       "    <tr>\n",
       "      <th>свадебные платья</th>\n",
       "      <td>12</td>\n",
       "      <td>3</td>\n",
       "      <td>30</td>\n",
       "      <td>20</td>\n",
       "      <td>1</td>\n",
       "      <td>6</td>\n",
       "    </tr>\n",
       "    <tr>\n",
       "      <th>свадебный салон</th>\n",
       "      <td>6</td>\n",
       "      <td>51</td>\n",
       "      <td>4</td>\n",
       "      <td>7</td>\n",
       "      <td>3</td>\n",
       "      <td>14</td>\n",
       "    </tr>\n",
       "    <tr>\n",
       "      <th rowspan=\"3\" valign=\"top\">2019-01-11</th>\n",
       "      <th>вечерние платья</th>\n",
       "      <td>10</td>\n",
       "      <td>1</td>\n",
       "      <td>51</td>\n",
       "      <td>15</td>\n",
       "      <td>51</td>\n",
       "      <td>11</td>\n",
       "    </tr>\n",
       "    <tr>\n",
       "      <th>свадебные платья</th>\n",
       "      <td>6</td>\n",
       "      <td>3</td>\n",
       "      <td>12</td>\n",
       "      <td>23</td>\n",
       "      <td>1</td>\n",
       "      <td>5</td>\n",
       "    </tr>\n",
       "    <tr>\n",
       "      <th>свадебный салон</th>\n",
       "      <td>11</td>\n",
       "      <td>51</td>\n",
       "      <td>3</td>\n",
       "      <td>14</td>\n",
       "      <td>5</td>\n",
       "      <td>16</td>\n",
       "    </tr>\n",
       "    <tr>\n",
       "      <th rowspan=\"3\" valign=\"top\">2019-01-18</th>\n",
       "      <th>вечерние платья</th>\n",
       "      <td>11</td>\n",
       "      <td>1</td>\n",
       "      <td>37</td>\n",
       "      <td>9</td>\n",
       "      <td>51</td>\n",
       "      <td>20</td>\n",
       "    </tr>\n",
       "    <tr>\n",
       "      <th>свадебные платья</th>\n",
       "      <td>11</td>\n",
       "      <td>3</td>\n",
       "      <td>51</td>\n",
       "      <td>20</td>\n",
       "      <td>2</td>\n",
       "      <td>5</td>\n",
       "    </tr>\n",
       "    <tr>\n",
       "      <th>свадебный салон</th>\n",
       "      <td>3</td>\n",
       "      <td>51</td>\n",
       "      <td>8</td>\n",
       "      <td>7</td>\n",
       "      <td>4</td>\n",
       "      <td>17</td>\n",
       "    </tr>\n",
       "    <tr>\n",
       "      <th rowspan=\"3\" valign=\"top\">2019-01-25</th>\n",
       "      <th>вечерние платья</th>\n",
       "      <td>22</td>\n",
       "      <td>1</td>\n",
       "      <td>51</td>\n",
       "      <td>8</td>\n",
       "      <td>51</td>\n",
       "      <td>19</td>\n",
       "    </tr>\n",
       "    <tr>\n",
       "      <th>свадебные платья</th>\n",
       "      <td>16</td>\n",
       "      <td>3</td>\n",
       "      <td>31</td>\n",
       "      <td>19</td>\n",
       "      <td>2</td>\n",
       "      <td>7</td>\n",
       "    </tr>\n",
       "    <tr>\n",
       "      <th>свадебный салон</th>\n",
       "      <td>4</td>\n",
       "      <td>51</td>\n",
       "      <td>7</td>\n",
       "      <td>1</td>\n",
       "      <td>3</td>\n",
       "      <td>20</td>\n",
       "    </tr>\n",
       "    <tr>\n",
       "      <th rowspan=\"3\" valign=\"top\">2019-03-28</th>\n",
       "      <th>вечерние платья</th>\n",
       "      <td>5</td>\n",
       "      <td>51</td>\n",
       "      <td>51</td>\n",
       "      <td>20</td>\n",
       "      <td>51</td>\n",
       "      <td>8</td>\n",
       "    </tr>\n",
       "    <tr>\n",
       "      <th>свадебные платья</th>\n",
       "      <td>4</td>\n",
       "      <td>51</td>\n",
       "      <td>14</td>\n",
       "      <td>13</td>\n",
       "      <td>1</td>\n",
       "      <td>2</td>\n",
       "    </tr>\n",
       "    <tr>\n",
       "      <th>свадебный салон</th>\n",
       "      <td>9</td>\n",
       "      <td>51</td>\n",
       "      <td>4</td>\n",
       "      <td>1</td>\n",
       "      <td>5</td>\n",
       "      <td>15</td>\n",
       "    </tr>\n",
       "    <tr>\n",
       "      <th rowspan=\"3\" valign=\"top\">2019-04-05</th>\n",
       "      <th>вечерние платья</th>\n",
       "      <td>28</td>\n",
       "      <td>3</td>\n",
       "      <td>26</td>\n",
       "      <td>14</td>\n",
       "      <td>51</td>\n",
       "      <td>14</td>\n",
       "    </tr>\n",
       "    <tr>\n",
       "      <th>свадебные платья</th>\n",
       "      <td>7</td>\n",
       "      <td>3</td>\n",
       "      <td>6</td>\n",
       "      <td>11</td>\n",
       "      <td>2</td>\n",
       "      <td>4</td>\n",
       "    </tr>\n",
       "    <tr>\n",
       "      <th>свадебный салон</th>\n",
       "      <td>7</td>\n",
       "      <td>51</td>\n",
       "      <td>8</td>\n",
       "      <td>13</td>\n",
       "      <td>9</td>\n",
       "      <td>10</td>\n",
       "    </tr>\n",
       "    <tr>\n",
       "      <th rowspan=\"3\" valign=\"top\">2019-04-13</th>\n",
       "      <th>вечерние платья</th>\n",
       "      <td>6</td>\n",
       "      <td>1</td>\n",
       "      <td>51</td>\n",
       "      <td>10</td>\n",
       "      <td>51</td>\n",
       "      <td>16</td>\n",
       "    </tr>\n",
       "    <tr>\n",
       "      <th>свадебные платья</th>\n",
       "      <td>17</td>\n",
       "      <td>2</td>\n",
       "      <td>16</td>\n",
       "      <td>6</td>\n",
       "      <td>1</td>\n",
       "      <td>10</td>\n",
       "    </tr>\n",
       "    <tr>\n",
       "      <th>свадебный салон</th>\n",
       "      <td>20</td>\n",
       "      <td>51</td>\n",
       "      <td>18</td>\n",
       "      <td>1</td>\n",
       "      <td>4</td>\n",
       "      <td>11</td>\n",
       "    </tr>\n",
       "    <tr>\n",
       "      <th rowspan=\"3\" valign=\"top\">2019-04-21</th>\n",
       "      <th>вечерние платья</th>\n",
       "      <td>↓16 (-10)</td>\n",
       "      <td>↓51 (-50)</td>\n",
       "      <td>↑20 (+31)</td>\n",
       "      <td>↓14 (-4)</td>\n",
       "      <td>51</td>\n",
       "      <td>↓23 (-7)</td>\n",
       "    </tr>\n",
       "    <tr>\n",
       "      <th>свадебные платья</th>\n",
       "      <td>↓25 (-8)</td>\n",
       "      <td>↓3 (-1)</td>\n",
       "      <td>↑15 (+1)</td>\n",
       "      <td>↓23 (-17)</td>\n",
       "      <td>1</td>\n",
       "      <td>↓11 (-1)</td>\n",
       "    </tr>\n",
       "    <tr>\n",
       "      <th>свадебный салон</th>\n",
       "      <td>↑15 (+5)</td>\n",
       "      <td>51</td>\n",
       "      <td>↑1 (+17)</td>\n",
       "      <td>↓10 (-9)</td>\n",
       "      <td>↓9 (-5)</td>\n",
       "      <td>↑8 (+3)</td>\n",
       "    </tr>\n",
       "  </tbody>\n",
       "</table>\n",
       "</div>"
      ],
      "text/plain": [
       "                            jullybride.ru milanovera.ru spb.marytrufel.ru  \\\n",
       "2019-01-05 вечерние платья              4             1                51   \n",
       "           свадебные платья            12             3                30   \n",
       "           свадебный салон              6            51                 4   \n",
       "2019-01-11 вечерние платья             10             1                51   \n",
       "           свадебные платья             6             3                12   \n",
       "           свадебный салон             11            51                 3   \n",
       "2019-01-18 вечерние платья             11             1                37   \n",
       "           свадебные платья            11             3                51   \n",
       "           свадебный салон              3            51                 8   \n",
       "2019-01-25 вечерние платья             22             1                51   \n",
       "           свадебные платья            16             3                31   \n",
       "           свадебный салон              4            51                 7   \n",
       "2019-03-28 вечерние платья              5            51                51   \n",
       "           свадебные платья             4            51                14   \n",
       "           свадебный салон              9            51                 4   \n",
       "2019-04-05 вечерние платья             28             3                26   \n",
       "           свадебные платья             7             3                 6   \n",
       "           свадебный салон              7            51                 8   \n",
       "2019-04-13 вечерние платья              6             1                51   \n",
       "           свадебные платья            17             2                16   \n",
       "           свадебный салон             20            51                18   \n",
       "2019-04-21 вечерние платья      ↓16 (-10)     ↓51 (-50)         ↑20 (+31)   \n",
       "           свадебные платья      ↓25 (-8)       ↓3 (-1)          ↑15 (+1)   \n",
       "           свадебный салон       ↑15 (+5)            51          ↑1 (+17)   \n",
       "\n",
       "                             vbelom.ru vesnawedding.ru  \\\n",
       "2019-01-05 вечерние платья           7              51   \n",
       "           свадебные платья         20               1   \n",
       "           свадебный салон           7               3   \n",
       "2019-01-11 вечерние платья          15              51   \n",
       "           свадебные платья         23               1   \n",
       "           свадебный салон          14               5   \n",
       "2019-01-18 вечерние платья           9              51   \n",
       "           свадебные платья         20               2   \n",
       "           свадебный салон           7               4   \n",
       "2019-01-25 вечерние платья           8              51   \n",
       "           свадебные платья         19               2   \n",
       "           свадебный салон           1               3   \n",
       "2019-03-28 вечерние платья          20              51   \n",
       "           свадебные платья         13               1   \n",
       "           свадебный салон           1               5   \n",
       "2019-04-05 вечерние платья          14              51   \n",
       "           свадебные платья         11               2   \n",
       "           свадебный салон          13               9   \n",
       "2019-04-13 вечерние платья          10              51   \n",
       "           свадебные платья          6               1   \n",
       "           свадебный салон           1               4   \n",
       "2019-04-21 вечерние платья    ↓14 (-4)              51   \n",
       "           свадебные платья  ↓23 (-17)               1   \n",
       "           свадебный салон    ↓10 (-9)         ↓9 (-5)   \n",
       "\n",
       "                            spb.salon-love-forever.ru  \n",
       "2019-01-05 вечерние платья                         17  \n",
       "           свадебные платья                         6  \n",
       "           свадебный салон                         14  \n",
       "2019-01-11 вечерние платья                         11  \n",
       "           свадебные платья                         5  \n",
       "           свадебный салон                         16  \n",
       "2019-01-18 вечерние платья                         20  \n",
       "           свадебные платья                         5  \n",
       "           свадебный салон                         17  \n",
       "2019-01-25 вечерние платья                         19  \n",
       "           свадебные платья                         7  \n",
       "           свадебный салон                         20  \n",
       "2019-03-28 вечерние платья                          8  \n",
       "           свадебные платья                         2  \n",
       "           свадебный салон                         15  \n",
       "2019-04-05 вечерние платья                         14  \n",
       "           свадебные платья                         4  \n",
       "           свадебный салон                         10  \n",
       "2019-04-13 вечерние платья                         16  \n",
       "           свадебные платья                        10  \n",
       "           свадебный салон                         11  \n",
       "2019-04-21 вечерние платья                   ↓23 (-7)  \n",
       "           свадебные платья                  ↓11 (-1)  \n",
       "           свадебный салон                    ↑8 (+3)  "
      ]
     },
     "execution_count": 137,
     "metadata": {},
     "output_type": "execute_result"
    }
   ],
   "source": [
    "positions['spb'] = positions['spb'].fillna(51).applymap(lambda x: int(x))\n",
    "# change_positions(positions['spb'][cols].loc[(slice('2018-01','2018-02'), All), All].unstack().resample('W', \n",
    "# kind='period').mean().applymap(lambda x: round(x)).stack())\n",
    "change_positions(positions['spb'][cols].loc[slc]) # .loc[['201707', '201711'], :]"
   ]
  },
  {
   "cell_type": "markdown",
   "metadata": {},
   "source": [
    "**Комментарий:** также наблюдается нестабильный SERP."
   ]
  },
  {
   "cell_type": "markdown",
   "metadata": {},
   "source": [
    "#### Среднее значение позиций по месяцам и его изменение"
   ]
  },
  {
   "cell_type": "code",
   "execution_count": 141,
   "metadata": {
    "collapsed": false
   },
   "outputs": [],
   "source": [
    "#change_positions(positions['spb'][cols].unstack()['2019'].resample('M', \n",
    "#                                kind='period').mean().applymap(lambda x: round(x)).stack())"
   ]
  },
  {
   "cell_type": "markdown",
   "metadata": {},
   "source": [
    "**Источник:** https://xml.yandex.ru\n",
    "\n",
    "Позиции в таблице и в текущей выдаче Яндекса могут отличаться из-за особенностей сервиса xml.yandex, а также от индивидуализации SERP.\n",
    "\n",
    "**51** — отсутствие сайта в ТОП-50."
   ]
  }
 ],
 "metadata": {
  "kernelspec": {
   "display_name": "Python 3",
   "language": "python",
   "name": "python3"
  },
  "language_info": {
   "codemirror_mode": {
    "name": "ipython",
    "version": 3
   },
   "file_extension": ".py",
   "mimetype": "text/x-python",
   "name": "python",
   "nbconvert_exporter": "python",
   "pygments_lexer": "ipython3",
   "version": "3.5.1"
  }
 },
 "nbformat": 4,
 "nbformat_minor": 0
}
